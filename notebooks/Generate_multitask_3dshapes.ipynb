{
 "cells": [
  {
   "cell_type": "code",
   "execution_count": 1,
   "metadata": {},
   "outputs": [],
   "source": [
    "import matplotlib.pyplot as plt\n",
    "import numpy as np\n",
    "import torch\n",
    "from torch import nn\n",
    "\n",
    "import h5py"
   ]
  },
  {
   "cell_type": "code",
   "execution_count": null,
   "metadata": {},
   "outputs": [],
   "source": [
    "f = h5py.File(\"/shared/sets/datasets/disentanglement-multitask/3dshapes/3dshapes.h5\", 'r')\n",
    "print(f)\n"
   ]
  },
  {
   "cell_type": "code",
   "execution_count": null,
   "metadata": {},
   "outputs": [],
   "source": [
    "print(f.keys())"
   ]
  },
  {
   "cell_type": "code",
   "execution_count": null,
   "metadata": {},
   "outputs": [],
   "source": [
    "shapes3d = {key: f[key] for key in ['images', 'labels']}\n",
    "dataset_x = shapes3d['labels']\n",
    "dataset_x = torch.tensor(dataset_x).cuda().float()"
   ]
  },
  {
   "cell_type": "code",
   "execution_count": 11,
   "metadata": {},
   "outputs": [],
   "source": [
    "torch.manual_seed(658)\n",
    "torch.backends.cudnn.deterministic = True\n",
    "torch.backends.cudnn.benchmark = False\n",
    "\n",
    "networks = []\n",
    "multitask_targets = []\n",
    "for network in range(50):\n",
    "    network = nn.Sequential(\n",
    "        nn.Linear(6, 300),\n",
    "        nn.Tanh(),\n",
    "        nn.Linear(300, 300),\n",
    "        nn.Tanh(),\n",
    "        nn.Linear(300, 300),\n",
    "        nn.Tanh(),\n",
    "        nn.Linear(300, 300),\n",
    "        nn.Tanh(),\n",
    "        nn.Linear(300, 1),\n",
    "    )\n",
    "    \n",
    "    for module in network.children():\n",
    "        if isinstance(module, nn.Linear):\n",
    "            torch.nn.init.normal_(module.weight.data, 0, 1.)\n",
    "            \n",
    "    network = network.cuda()\n",
    "    targets = network(dataset_x)\n",
    "    targets = targets.detach().cpu().numpy()\n",
    "    multitask_targets += [targets]\n",
    "\n",
    "multitask_targets = np.concatenate(multitask_targets, 1)"
   ]
  },
  {
   "cell_type": "code",
   "execution_count": 12,
   "metadata": {},
   "outputs": [],
   "source": [
    "shapes3d['multitask_targets'] = multitask_targets\n",
    "np.savez_compressed(\"3dshapes_multitask.npz\", **shapes3d)"
   ]
  },
  {
   "cell_type": "code",
   "execution_count": 13,
   "metadata": {},
   "outputs": [
    {
     "name": "stdout",
     "output_type": "stream",
     "text": [
      "[ -0.31196606  -2.3516924   -1.4602647   -4.7415085  -19.127003\n",
      "  -1.0143753  -12.447521    13.70324     -6.306644     3.1938343\n",
      "  -1.9605145   16.70559      1.4269706  -31.091702    16.603064\n",
      "  -0.6664022    9.763324    -4.485842    27.586367    19.714392\n",
      "   5.034379    16.705286    12.028307    -8.746036    19.236835\n",
      "   7.1748137  -12.025241   -22.951971   -15.968634    12.793978\n",
      "  11.404209     4.051466    13.995813     5.4605536    3.017771\n",
      "  -3.849686    12.531304    18.862926   -24.60506     -1.8412641\n",
      "  -1.3432792   -0.98290575 -27.891468    28.465433    32.946815\n",
      "  -1.4312706   -0.64788693 -17.087461     3.72648      3.6102152 ]\n"
     ]
    }
   ],
   "source": [
    "A = np.load('3dshapes_multitask.npz')\n",
    "print(A['multitask_targets'][0])"
   ]
  },
  {
   "cell_type": "code",
   "execution_count": 3,
   "metadata": {},
   "outputs": [],
   "source": [
    "A = np.load('/Users/stella/projects/disentanglement-multi-task/data/test_dsets/dsprites/dsprites_multitask.npz')"
   ]
  },
  {
   "cell_type": "code",
   "execution_count": 4,
   "metadata": {},
   "outputs": [
    {
     "name": "stdout",
     "output_type": "stream",
     "text": [
      "(737280, 50)\n"
     ]
    }
   ],
   "source": [
    "print(A['multitask_targets'].shape)"
   ]
  },
  {
   "cell_type": "markdown",
   "metadata": {},
   "source": [
    "# Custom splits"
   ]
  },
  {
   "cell_type": "code",
   "execution_count": 5,
   "metadata": {},
   "outputs": [],
   "source": [
    "num_tasks=50\n",
    "num_true = 6\n",
    "\n",
    "\n",
    "#[1,1,0,0,0,0],\n",
    "#[1,1,1,0,0,0],\n",
    "#[1,1,1,1,0,0],etc\n",
    "grow_splits = []\n",
    "for i in range(num_tasks):\n",
    "    temp = np.zeros(num_true)\n",
    "    temp[:((i%(num_true-1))+2)] = 1.0\n",
    "    grow_splits.append(temp)\n",
    "\n",
    "\n",
    "#[1,1,0,0,0,0],\n",
    "#[0,0,1,1,0,0],\n",
    "#[0,0,0,0,1,1],etc.\n",
    "independent_splits_v1 = []\n",
    "div_size=2\n",
    "for i in range(num_tasks):\n",
    "    k = num_true//div_size\n",
    "    temp = np.zeros(num_true)\n",
    "    j = i%k\n",
    "    temp[div_size*j:div_size*(j+1)] = 1.0\n",
    "    independent_splits_v1.append(temp)\n",
    "    \n",
    "    \n",
    "independent_splits_v2 = []\n",
    "div_size=3\n",
    "for i in range(num_tasks):\n",
    "    k = num_true//div_size\n",
    "    temp = np.zeros(num_true)\n",
    "    j = i%k\n",
    "    temp[div_size*j:div_size*(j+1)] = 1.0\n",
    "    independent_splits_v2.append(temp)    \n",
    "\n",
    "#random\n",
    "#[1,0,1,1,0,0]\n",
    "#[0,0,1,0,1,1], etc. \n",
    "rs = np.random.RandomState(11)\n",
    "random_splits = []\n",
    "for i in range(num_tasks):\n",
    "    temp = np.zeros(num_true)\n",
    "    temp[rs.rand(len(temp))>0.5]=1.0\n",
    "    if(sum(temp)==0):\n",
    "        i = rs.randint(num_true)\n",
    "        temp[i]=1.0\n",
    "    random_splits.append(temp)\n",
    "    \n",
    "\n",
    "\n",
    "torch.manual_seed(658)\n",
    "torch.backends.cudnn.deterministic = True\n",
    "torch.backends.cudnn.benchmark = False\n",
    "\n",
    "\n",
    "class Masked(nn.Module):\n",
    "    def __init__(self, split, input_shape):\n",
    "        super(Masked, self).__init__()\n",
    "        self.split = split\n",
    "        self.input_shape = input_shape\n",
    "        self.mask = torch.zeros(self.input_shape, dtype=torch.float32).cuda()\n",
    "        self.mask[self.split] = 1\n",
    "    \n",
    "    def forward(self, input):\n",
    "        return self.mask*input\n",
    "        \n",
    "    \n",
    "SPLITS={\n",
    "    \"grow\":grow_splits,\n",
    "    \"independent_v1\":independent_splits_v1,\n",
    "    \"independent_v2\":independent_splits_v2,\n",
    "    \"random\":random_splits\n",
    "}\n",
    "    \n",
    "    \n",
    "    \n",
    "def save_splitted_dataset(split_type):\n",
    "    networks = []\n",
    "    multitask_targets = []\n",
    "    split_array = SPLITS[split_type]\n",
    "    for network in range(50):\n",
    "        network = nn.Sequential(\n",
    "            Masked(split_array[network], 6),\n",
    "            nn.Linear(6, 300),\n",
    "            nn.Tanh(),\n",
    "            nn.Linear(300, 300),\n",
    "            nn.Tanh(),\n",
    "            nn.Linear(300, 300),\n",
    "            nn.Tanh(),\n",
    "            nn.Linear(300, 300),\n",
    "            nn.Tanh(),\n",
    "            nn.Linear(300, 1),\n",
    "        )\n",
    "\n",
    "        for module in network.children():\n",
    "            if isinstance(module, nn.Linear):\n",
    "                torch.nn.init.normal_(module.weight.data, 0, 1.)\n",
    "\n",
    "        network = network.cuda()\n",
    "    \n",
    "        \n",
    "        targets = network(dataset_x)\n",
    "        targets = targets.detach().cpu().numpy()\n",
    "        multitask_targets += [targets]\n",
    "\n",
    "    multitask_targets = np.concatenate(multitask_targets, 1)\n",
    "    shapes3d['multitask_targets'] = multitask_targets\n",
    "    np.savez_compressed(\"3dshapes_multitask_{}_splits.npz\".format(split_type), **shapes3d)    "
   ]
  },
  {
   "cell_type": "code",
   "execution_count": 6,
   "metadata": {
    "scrolled": true
   },
   "outputs": [
    {
     "name": "stdout",
     "output_type": "stream",
     "text": [
      "grow\n",
      "independent_v1\n",
      "independent_v2\n",
      "random\n"
     ]
    },
    {
     "ename": "OSError",
     "evalue": "[Errno 5] Input/output error",
     "output_type": "error",
     "traceback": [
      "\u001b[0;31m---------------------------------------------------------------------------\u001b[0m",
      "\u001b[0;31mOSError\u001b[0m                                   Traceback (most recent call last)",
      "\u001b[0;32m~/miniconda3/envs/py3/lib/python3.8/site-packages/numpy/lib/npyio.py\u001b[0m in \u001b[0;36m_savez\u001b[0;34m(file, args, kwds, compress, allow_pickle, pickle_kwargs)\u001b[0m\n\u001b[1;32m    720\u001b[0m             \u001b[0;32mwith\u001b[0m \u001b[0mzipf\u001b[0m\u001b[0;34m.\u001b[0m\u001b[0mopen\u001b[0m\u001b[0;34m(\u001b[0m\u001b[0mfname\u001b[0m\u001b[0;34m,\u001b[0m \u001b[0;34m'w'\u001b[0m\u001b[0;34m,\u001b[0m \u001b[0mforce_zip64\u001b[0m\u001b[0;34m=\u001b[0m\u001b[0;32mTrue\u001b[0m\u001b[0;34m)\u001b[0m \u001b[0;32mas\u001b[0m \u001b[0mfid\u001b[0m\u001b[0;34m:\u001b[0m\u001b[0;34m\u001b[0m\u001b[0;34m\u001b[0m\u001b[0m\n\u001b[0;32m--> 721\u001b[0;31m                 format.write_array(fid, val,\n\u001b[0m\u001b[1;32m    722\u001b[0m                                    \u001b[0mallow_pickle\u001b[0m\u001b[0;34m=\u001b[0m\u001b[0mallow_pickle\u001b[0m\u001b[0;34m,\u001b[0m\u001b[0;34m\u001b[0m\u001b[0;34m\u001b[0m\u001b[0m\n",
      "\u001b[0;32m~/miniconda3/envs/py3/lib/python3.8/site-packages/numpy/lib/format.py\u001b[0m in \u001b[0;36mwrite_array\u001b[0;34m(fp, array, version, allow_pickle, pickle_kwargs)\u001b[0m\n\u001b[1;32m    679\u001b[0m                     buffersize=buffersize, order='C'):\n\u001b[0;32m--> 680\u001b[0;31m                 \u001b[0mfp\u001b[0m\u001b[0;34m.\u001b[0m\u001b[0mwrite\u001b[0m\u001b[0;34m(\u001b[0m\u001b[0mchunk\u001b[0m\u001b[0;34m.\u001b[0m\u001b[0mtobytes\u001b[0m\u001b[0;34m(\u001b[0m\u001b[0;34m'C'\u001b[0m\u001b[0;34m)\u001b[0m\u001b[0;34m)\u001b[0m\u001b[0;34m\u001b[0m\u001b[0;34m\u001b[0m\u001b[0m\n\u001b[0m\u001b[1;32m    681\u001b[0m \u001b[0;34m\u001b[0m\u001b[0m\n",
      "\u001b[0;32m~/miniconda3/envs/py3/lib/python3.8/zipfile.py\u001b[0m in \u001b[0;36mwrite\u001b[0;34m(self, data)\u001b[0m\n\u001b[1;32m   1140\u001b[0m             \u001b[0mself\u001b[0m\u001b[0;34m.\u001b[0m\u001b[0m_compress_size\u001b[0m \u001b[0;34m+=\u001b[0m \u001b[0mlen\u001b[0m\u001b[0;34m(\u001b[0m\u001b[0mdata\u001b[0m\u001b[0;34m)\u001b[0m\u001b[0;34m\u001b[0m\u001b[0;34m\u001b[0m\u001b[0m\n\u001b[0;32m-> 1141\u001b[0;31m         \u001b[0mself\u001b[0m\u001b[0;34m.\u001b[0m\u001b[0m_fileobj\u001b[0m\u001b[0;34m.\u001b[0m\u001b[0mwrite\u001b[0m\u001b[0;34m(\u001b[0m\u001b[0mdata\u001b[0m\u001b[0;34m)\u001b[0m\u001b[0;34m\u001b[0m\u001b[0;34m\u001b[0m\u001b[0m\n\u001b[0m\u001b[1;32m   1142\u001b[0m         \u001b[0;32mreturn\u001b[0m \u001b[0mnbytes\u001b[0m\u001b[0;34m\u001b[0m\u001b[0;34m\u001b[0m\u001b[0m\n",
      "\u001b[0;31mOSError\u001b[0m: [Errno 5] Input/output error",
      "\nDuring handling of the above exception, another exception occurred:\n",
      "\u001b[0;31mOSError\u001b[0m                                   Traceback (most recent call last)",
      "\u001b[0;32m<ipython-input-6-0aa6e4840cf9>\u001b[0m in \u001b[0;36m<module>\u001b[0;34m\u001b[0m\n\u001b[1;32m      6\u001b[0m \u001b[0msave_splitted_dataset\u001b[0m\u001b[0;34m(\u001b[0m\u001b[0;34m\"independent_v2\"\u001b[0m\u001b[0;34m)\u001b[0m\u001b[0;34m\u001b[0m\u001b[0;34m\u001b[0m\u001b[0m\n\u001b[1;32m      7\u001b[0m \u001b[0mprint\u001b[0m\u001b[0;34m(\u001b[0m\u001b[0;34m\"random\"\u001b[0m\u001b[0;34m)\u001b[0m\u001b[0;34m\u001b[0m\u001b[0;34m\u001b[0m\u001b[0m\n\u001b[0;32m----> 8\u001b[0;31m \u001b[0msave_splitted_dataset\u001b[0m\u001b[0;34m(\u001b[0m\u001b[0;34m\"random\"\u001b[0m\u001b[0;34m)\u001b[0m\u001b[0;34m\u001b[0m\u001b[0;34m\u001b[0m\u001b[0m\n\u001b[0m",
      "\u001b[0;32m<ipython-input-5-9c05251820b1>\u001b[0m in \u001b[0;36msave_splitted_dataset\u001b[0;34m(split_type)\u001b[0m\n\u001b[1;32m    107\u001b[0m     \u001b[0mmultitask_targets\u001b[0m \u001b[0;34m=\u001b[0m \u001b[0mnp\u001b[0m\u001b[0;34m.\u001b[0m\u001b[0mconcatenate\u001b[0m\u001b[0;34m(\u001b[0m\u001b[0mmultitask_targets\u001b[0m\u001b[0;34m,\u001b[0m \u001b[0;36m1\u001b[0m\u001b[0;34m)\u001b[0m\u001b[0;34m\u001b[0m\u001b[0;34m\u001b[0m\u001b[0m\n\u001b[1;32m    108\u001b[0m     \u001b[0mshapes3d\u001b[0m\u001b[0;34m[\u001b[0m\u001b[0;34m'multitask_targets'\u001b[0m\u001b[0;34m]\u001b[0m \u001b[0;34m=\u001b[0m \u001b[0mmultitask_targets\u001b[0m\u001b[0;34m\u001b[0m\u001b[0;34m\u001b[0m\u001b[0m\n\u001b[0;32m--> 109\u001b[0;31m     \u001b[0mnp\u001b[0m\u001b[0;34m.\u001b[0m\u001b[0msavez_compressed\u001b[0m\u001b[0;34m(\u001b[0m\u001b[0;34m\"3dshapes_multitask_{}_splits.npz\"\u001b[0m\u001b[0;34m.\u001b[0m\u001b[0mformat\u001b[0m\u001b[0;34m(\u001b[0m\u001b[0msplit_type\u001b[0m\u001b[0;34m)\u001b[0m\u001b[0;34m,\u001b[0m \u001b[0;34m**\u001b[0m\u001b[0mshapes3d\u001b[0m\u001b[0;34m)\u001b[0m\u001b[0;34m\u001b[0m\u001b[0;34m\u001b[0m\u001b[0m\n\u001b[0m",
      "\u001b[0;32m<__array_function__ internals>\u001b[0m in \u001b[0;36msavez_compressed\u001b[0;34m(*args, **kwargs)\u001b[0m\n",
      "\u001b[0;32m~/miniconda3/envs/py3/lib/python3.8/site-packages/numpy/lib/npyio.py\u001b[0m in \u001b[0;36msavez_compressed\u001b[0;34m(file, *args, **kwds)\u001b[0m\n\u001b[1;32m    684\u001b[0m \u001b[0;34m\u001b[0m\u001b[0m\n\u001b[1;32m    685\u001b[0m     \"\"\"\n\u001b[0;32m--> 686\u001b[0;31m     \u001b[0m_savez\u001b[0m\u001b[0;34m(\u001b[0m\u001b[0mfile\u001b[0m\u001b[0;34m,\u001b[0m \u001b[0margs\u001b[0m\u001b[0;34m,\u001b[0m \u001b[0mkwds\u001b[0m\u001b[0;34m,\u001b[0m \u001b[0;32mTrue\u001b[0m\u001b[0;34m)\u001b[0m\u001b[0;34m\u001b[0m\u001b[0;34m\u001b[0m\u001b[0m\n\u001b[0m\u001b[1;32m    687\u001b[0m \u001b[0;34m\u001b[0m\u001b[0m\n\u001b[1;32m    688\u001b[0m \u001b[0;34m\u001b[0m\u001b[0m\n",
      "\u001b[0;32m~/miniconda3/envs/py3/lib/python3.8/site-packages/numpy/lib/npyio.py\u001b[0m in \u001b[0;36m_savez\u001b[0;34m(file, args, kwds, compress, allow_pickle, pickle_kwargs)\u001b[0m\n\u001b[1;32m    719\u001b[0m             \u001b[0;31m# always force zip64, gh-10776\u001b[0m\u001b[0;34m\u001b[0m\u001b[0;34m\u001b[0m\u001b[0;34m\u001b[0m\u001b[0m\n\u001b[1;32m    720\u001b[0m             \u001b[0;32mwith\u001b[0m \u001b[0mzipf\u001b[0m\u001b[0;34m.\u001b[0m\u001b[0mopen\u001b[0m\u001b[0;34m(\u001b[0m\u001b[0mfname\u001b[0m\u001b[0;34m,\u001b[0m \u001b[0;34m'w'\u001b[0m\u001b[0;34m,\u001b[0m \u001b[0mforce_zip64\u001b[0m\u001b[0;34m=\u001b[0m\u001b[0;32mTrue\u001b[0m\u001b[0;34m)\u001b[0m \u001b[0;32mas\u001b[0m \u001b[0mfid\u001b[0m\u001b[0;34m:\u001b[0m\u001b[0;34m\u001b[0m\u001b[0;34m\u001b[0m\u001b[0m\n\u001b[0;32m--> 721\u001b[0;31m                 format.write_array(fid, val,\n\u001b[0m\u001b[1;32m    722\u001b[0m                                    \u001b[0mallow_pickle\u001b[0m\u001b[0;34m=\u001b[0m\u001b[0mallow_pickle\u001b[0m\u001b[0;34m,\u001b[0m\u001b[0;34m\u001b[0m\u001b[0;34m\u001b[0m\u001b[0m\n\u001b[1;32m    723\u001b[0m                                    pickle_kwargs=pickle_kwargs)\n",
      "\u001b[0;32m~/miniconda3/envs/py3/lib/python3.8/zipfile.py\u001b[0m in \u001b[0;36mclose\u001b[0;34m(self)\u001b[0m\n\u001b[1;32m   1178\u001b[0m                 \u001b[0;31m# Preserve current position in file\u001b[0m\u001b[0;34m\u001b[0m\u001b[0;34m\u001b[0m\u001b[0;34m\u001b[0m\u001b[0m\n\u001b[1;32m   1179\u001b[0m                 \u001b[0mself\u001b[0m\u001b[0;34m.\u001b[0m\u001b[0m_zipfile\u001b[0m\u001b[0;34m.\u001b[0m\u001b[0mstart_dir\u001b[0m \u001b[0;34m=\u001b[0m \u001b[0mself\u001b[0m\u001b[0;34m.\u001b[0m\u001b[0m_fileobj\u001b[0m\u001b[0;34m.\u001b[0m\u001b[0mtell\u001b[0m\u001b[0;34m(\u001b[0m\u001b[0;34m)\u001b[0m\u001b[0;34m\u001b[0m\u001b[0;34m\u001b[0m\u001b[0m\n\u001b[0;32m-> 1180\u001b[0;31m                 \u001b[0mself\u001b[0m\u001b[0;34m.\u001b[0m\u001b[0m_fileobj\u001b[0m\u001b[0;34m.\u001b[0m\u001b[0mseek\u001b[0m\u001b[0;34m(\u001b[0m\u001b[0mself\u001b[0m\u001b[0;34m.\u001b[0m\u001b[0m_zinfo\u001b[0m\u001b[0;34m.\u001b[0m\u001b[0mheader_offset\u001b[0m\u001b[0;34m)\u001b[0m\u001b[0;34m\u001b[0m\u001b[0;34m\u001b[0m\u001b[0m\n\u001b[0m\u001b[1;32m   1181\u001b[0m                 \u001b[0mself\u001b[0m\u001b[0;34m.\u001b[0m\u001b[0m_fileobj\u001b[0m\u001b[0;34m.\u001b[0m\u001b[0mwrite\u001b[0m\u001b[0;34m(\u001b[0m\u001b[0mself\u001b[0m\u001b[0;34m.\u001b[0m\u001b[0m_zinfo\u001b[0m\u001b[0;34m.\u001b[0m\u001b[0mFileHeader\u001b[0m\u001b[0;34m(\u001b[0m\u001b[0mself\u001b[0m\u001b[0;34m.\u001b[0m\u001b[0m_zip64\u001b[0m\u001b[0;34m)\u001b[0m\u001b[0;34m)\u001b[0m\u001b[0;34m\u001b[0m\u001b[0;34m\u001b[0m\u001b[0m\n\u001b[1;32m   1182\u001b[0m                 \u001b[0mself\u001b[0m\u001b[0;34m.\u001b[0m\u001b[0m_fileobj\u001b[0m\u001b[0;34m.\u001b[0m\u001b[0mseek\u001b[0m\u001b[0;34m(\u001b[0m\u001b[0mself\u001b[0m\u001b[0;34m.\u001b[0m\u001b[0m_zipfile\u001b[0m\u001b[0;34m.\u001b[0m\u001b[0mstart_dir\u001b[0m\u001b[0;34m)\u001b[0m\u001b[0;34m\u001b[0m\u001b[0;34m\u001b[0m\u001b[0m\n",
      "\u001b[0;31mOSError\u001b[0m: [Errno 5] Input/output error"
     ]
    }
   ],
   "source": [
    "print(\"grow\")\n",
    "save_splitted_dataset(\"grow\")\n",
    "print(\"independent_v1\")\n",
    "save_splitted_dataset(\"independent_v1\")\n",
    "print(\"independent_v2\")\n",
    "save_splitted_dataset(\"independent_v2\")\n",
    "print(\"random\")\n",
    "save_splitted_dataset(\"random\")"
   ]
  },
  {
   "cell_type": "code",
   "execution_count": null,
   "metadata": {},
   "outputs": [],
   "source": [
    "save_splitted_dataset(\"random\")"
   ]
  },
  {
   "cell_type": "code",
   "execution_count": null,
   "metadata": {},
   "outputs": [],
   "source": []
  }
 ],
 "metadata": {
  "kernelspec": {
   "display_name": "Python 3",
   "language": "python",
   "name": "python3"
  },
  "language_info": {
   "codemirror_mode": {
    "name": "ipython",
    "version": 3
   },
   "file_extension": ".py",
   "mimetype": "text/x-python",
   "name": "python",
   "nbconvert_exporter": "python",
   "pygments_lexer": "ipython3",
   "version": "3.8.5"
  }
 },
 "nbformat": 4,
 "nbformat_minor": 4
}
